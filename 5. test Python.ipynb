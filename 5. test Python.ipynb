{
 "cells": [
  {
   "cell_type": "code",
   "execution_count": 1,
   "id": "4a21603d",
   "metadata": {},
   "outputs": [],
   "source": [
    "import pandas as pd"
   ]
  },
  {
   "cell_type": "code",
   "execution_count": 3,
   "id": "5518e483",
   "metadata": {},
   "outputs": [
    {
     "name": "stdout",
     "output_type": "stream",
     "text": [
      "        Date  Shape of You  Despacito  Something Just Like This  HUMBLE.  \\\n",
      "0   1/6/2017      12287078        NaN                       NaN      NaN   \n",
      "1   1/7/2017      13190270        NaN                       NaN      NaN   \n",
      "2   1/8/2017      13099919        NaN                       NaN      NaN   \n",
      "3   1/9/2017      14506351        NaN                       NaN      NaN   \n",
      "4  1/10/2017      14275628        NaN                       NaN      NaN   \n",
      "\n",
      "   Unforgettable  \n",
      "0            NaN  \n",
      "1            NaN  \n",
      "2            NaN  \n",
      "3            NaN  \n",
      "4            NaN  \n"
     ]
    }
   ],
   "source": [
    "Spotify = pd.read_csv(\"spotify.csv\")\n",
    "print(Spotify.head())"
   ]
  },
  {
   "cell_type": "code",
   "execution_count": 4,
   "id": "fff6b78b",
   "metadata": {},
   "outputs": [
    {
     "name": "stdout",
     "output_type": "stream",
     "text": [
      "<class 'pandas.core.frame.DataFrame'>\n",
      "RangeIndex: 366 entries, 0 to 365\n",
      "Data columns (total 6 columns):\n",
      " #   Column                    Non-Null Count  Dtype  \n",
      "---  ------                    --------------  -----  \n",
      " 0   Date                      366 non-null    object \n",
      " 1   Shape of You              366 non-null    int64  \n",
      " 2   Despacito                 359 non-null    float64\n",
      " 3   Something Just Like This  319 non-null    float64\n",
      " 4   HUMBLE.                   282 non-null    float64\n",
      " 5   Unforgettable             275 non-null    float64\n",
      "dtypes: float64(4), int64(1), object(1)\n",
      "memory usage: 17.3+ KB\n",
      "None\n"
     ]
    }
   ],
   "source": [
    "# in ra info bảng\n",
    "print(Spotify.info())"
   ]
  },
  {
   "cell_type": "code",
   "execution_count": 5,
   "id": "73ef7ddf",
   "metadata": {},
   "outputs": [
    {
     "data": {
      "text/plain": [
       "Date                         0\n",
       "Shape of You                 0\n",
       "Despacito                    7\n",
       "Something Just Like This    47\n",
       "HUMBLE.                     84\n",
       "Unforgettable               91\n",
       "dtype: int64"
      ]
     },
     "execution_count": 5,
     "metadata": {},
     "output_type": "execute_result"
    }
   ],
   "source": [
    "# count số dòng bị null ở mỗi cột\n",
    "Spotify.isna().sum()"
   ]
  },
  {
   "cell_type": "code",
   "execution_count": 6,
   "id": "9d228682",
   "metadata": {},
   "outputs": [
    {
     "name": "stdout",
     "output_type": "stream",
     "text": [
      "<class 'pandas.core.frame.DataFrame'>\n",
      "Int64Index: 275 entries, 91 to 365\n",
      "Data columns (total 6 columns):\n",
      " #   Column                    Non-Null Count  Dtype  \n",
      "---  ------                    --------------  -----  \n",
      " 0   Date                      275 non-null    object \n",
      " 1   Shape of You              275 non-null    int64  \n",
      " 2   Despacito                 275 non-null    float64\n",
      " 3   Something Just Like This  275 non-null    float64\n",
      " 4   HUMBLE.                   275 non-null    float64\n",
      " 5   Unforgettable             275 non-null    float64\n",
      "dtypes: float64(4), int64(1), object(1)\n",
      "memory usage: 15.0+ KB\n",
      "None\n"
     ]
    }
   ],
   "source": [
    "# tạo bảng spotify_dropna_all bằng cách loại bỏ tất cả giá trị null trong bảng và in ra info\n",
    "spotify_dropna_all = Spotify.dropna()\n",
    "print(spotify_dropna_all.info())"
   ]
  },
  {
   "cell_type": "code",
   "execution_count": 7,
   "id": "e9f4729b",
   "metadata": {},
   "outputs": [
    {
     "name": "stdout",
     "output_type": "stream",
     "text": [
      "<class 'pandas.core.frame.DataFrame'>\n",
      "Int64Index: 275 entries, 91 to 365\n",
      "Data columns (total 6 columns):\n",
      " #   Column                    Non-Null Count  Dtype  \n",
      "---  ------                    --------------  -----  \n",
      " 0   Date                      275 non-null    object \n",
      " 1   Shape of You              275 non-null    int64  \n",
      " 2   Despacito                 275 non-null    float64\n",
      " 3   Something Just Like This  275 non-null    float64\n",
      " 4   HUMBLE.                   275 non-null    float64\n",
      " 5   Unforgettable             275 non-null    float64\n",
      "dtypes: float64(4), int64(1), object(1)\n",
      "memory usage: 15.0+ KB\n",
      "None\n"
     ]
    }
   ],
   "source": [
    "# fill tất cả NA bằng 0, lưu vào bảng spotify_fillna_0 và in ra info\n",
    "spotify_fillna_0 = spotify_dropna_all.fillna(0)\n",
    "print(spotify_fillna_0.info())"
   ]
  },
  {
   "cell_type": "code",
   "execution_count": 8,
   "id": "fc38b641",
   "metadata": {},
   "outputs": [
    {
     "name": "stdout",
     "output_type": "stream",
     "text": [
      "         Date  Shape of You  Despacito  Something Just Like This    HUMBLE.  \\\n",
      "91   4/7/2017      13042637  6533680.0                 9736931.0  8055220.0   \n",
      "92   4/8/2017      12815920  6660608.0                 9334494.0  7280150.0   \n",
      "93   4/9/2017      11291392  5683746.0                 8077875.0  6396104.0   \n",
      "94  4/10/2017      11819128  5762588.0                 8678774.0  7162611.0   \n",
      "95  4/11/2017      11736951  5877897.0                 8591469.0  7468021.0   \n",
      "\n",
      "    Unforgettable  \n",
      "91       317011.0  \n",
      "92       308838.0  \n",
      "93       756145.0  \n",
      "94       954504.0  \n",
      "95       953037.0  \n"
     ]
    }
   ],
   "source": [
    "spotify_ok = spotify_fillna_0\n",
    "print(spotify_ok.head())"
   ]
  },
  {
   "cell_type": "code",
   "execution_count": 34,
   "id": "19f08fd7",
   "metadata": {},
   "outputs": [
    {
     "data": {
      "text/html": [
       "<div>\n",
       "<style scoped>\n",
       "    .dataframe tbody tr th:only-of-type {\n",
       "        vertical-align: middle;\n",
       "    }\n",
       "\n",
       "    .dataframe tbody tr th {\n",
       "        vertical-align: top;\n",
       "    }\n",
       "\n",
       "    .dataframe thead th {\n",
       "        text-align: right;\n",
       "    }\n",
       "</style>\n",
       "<table border=\"1\" class=\"dataframe\">\n",
       "  <thead>\n",
       "    <tr style=\"text-align: right;\">\n",
       "      <th></th>\n",
       "      <th>Shape of You</th>\n",
       "      <th>Despacito</th>\n",
       "      <th>Something Just Like This</th>\n",
       "      <th>HUMBLE.</th>\n",
       "      <th>Unforgettable</th>\n",
       "      <th>year_month</th>\n",
       "    </tr>\n",
       "  </thead>\n",
       "  <tbody>\n",
       "    <tr>\n",
       "      <th>count</th>\n",
       "      <td>2.750000e+02</td>\n",
       "      <td>2.750000e+02</td>\n",
       "      <td>2.750000e+02</td>\n",
       "      <td>2.750000e+02</td>\n",
       "      <td>2.750000e+02</td>\n",
       "      <td>275.000000</td>\n",
       "    </tr>\n",
       "    <tr>\n",
       "      <th>mean</th>\n",
       "      <td>6.097850e+06</td>\n",
       "      <td>1.009419e+07</td>\n",
       "      <td>3.813294e+06</td>\n",
       "      <td>4.590627e+06</td>\n",
       "      <td>4.687821e+06</td>\n",
       "      <td>7.894545</td>\n",
       "    </tr>\n",
       "    <tr>\n",
       "      <th>std</th>\n",
       "      <td>2.326594e+06</td>\n",
       "      <td>6.502954e+06</td>\n",
       "      <td>1.867439e+06</td>\n",
       "      <td>2.502312e+06</td>\n",
       "      <td>1.751676e+06</td>\n",
       "      <td>2.801161</td>\n",
       "    </tr>\n",
       "    <tr>\n",
       "      <th>min</th>\n",
       "      <td>3.497682e+06</td>\n",
       "      <td>2.300997e+06</td>\n",
       "      <td>1.380813e+06</td>\n",
       "      <td>1.638493e+06</td>\n",
       "      <td>3.088380e+05</td>\n",
       "      <td>1.000000</td>\n",
       "    </tr>\n",
       "    <tr>\n",
       "      <th>25%</th>\n",
       "      <td>4.227420e+06</td>\n",
       "      <td>3.960933e+06</td>\n",
       "      <td>2.247102e+06</td>\n",
       "      <td>2.760495e+06</td>\n",
       "      <td>3.258119e+06</td>\n",
       "      <td>6.000000</td>\n",
       "    </tr>\n",
       "    <tr>\n",
       "      <th>50%</th>\n",
       "      <td>5.184822e+06</td>\n",
       "      <td>7.678972e+06</td>\n",
       "      <td>3.200638e+06</td>\n",
       "      <td>3.603193e+06</td>\n",
       "      <td>4.772899e+06</td>\n",
       "      <td>8.000000</td>\n",
       "    </tr>\n",
       "    <tr>\n",
       "      <th>75%</th>\n",
       "      <td>7.426772e+06</td>\n",
       "      <td>1.664365e+07</td>\n",
       "      <td>4.997362e+06</td>\n",
       "      <td>6.198800e+06</td>\n",
       "      <td>6.314862e+06</td>\n",
       "      <td>10.000000</td>\n",
       "    </tr>\n",
       "    <tr>\n",
       "      <th>max</th>\n",
       "      <td>1.304264e+07</td>\n",
       "      <td>2.321818e+07</td>\n",
       "      <td>9.736931e+06</td>\n",
       "      <td>1.314496e+07</td>\n",
       "      <td>7.483165e+06</td>\n",
       "      <td>12.000000</td>\n",
       "    </tr>\n",
       "  </tbody>\n",
       "</table>\n",
       "</div>"
      ],
      "text/plain": [
       "       Shape of You     Despacito  Something Just Like This       HUMBLE.  \\\n",
       "count  2.750000e+02  2.750000e+02              2.750000e+02  2.750000e+02   \n",
       "mean   6.097850e+06  1.009419e+07              3.813294e+06  4.590627e+06   \n",
       "std    2.326594e+06  6.502954e+06              1.867439e+06  2.502312e+06   \n",
       "min    3.497682e+06  2.300997e+06              1.380813e+06  1.638493e+06   \n",
       "25%    4.227420e+06  3.960933e+06              2.247102e+06  2.760495e+06   \n",
       "50%    5.184822e+06  7.678972e+06              3.200638e+06  3.603193e+06   \n",
       "75%    7.426772e+06  1.664365e+07              4.997362e+06  6.198800e+06   \n",
       "max    1.304264e+07  2.321818e+07              9.736931e+06  1.314496e+07   \n",
       "\n",
       "       Unforgettable  year_month  \n",
       "count   2.750000e+02  275.000000  \n",
       "mean    4.687821e+06    7.894545  \n",
       "std     1.751676e+06    2.801161  \n",
       "min     3.088380e+05    1.000000  \n",
       "25%     3.258119e+06    6.000000  \n",
       "50%     4.772899e+06    8.000000  \n",
       "75%     6.314862e+06   10.000000  \n",
       "max     7.483165e+06   12.000000  "
      ]
     },
     "execution_count": 34,
     "metadata": {},
     "output_type": "execute_result"
    }
   ],
   "source": [
    "spotify_ok.describe()"
   ]
  },
  {
   "cell_type": "code",
   "execution_count": 40,
   "id": "64f3711c",
   "metadata": {},
   "outputs": [
    {
     "data": {
      "text/plain": [
       "1676908639"
      ]
     },
     "execution_count": 40,
     "metadata": {},
     "output_type": "execute_result"
    }
   ],
   "source": [
    "spotify_ok['Shape of You'].sum()"
   ]
  },
  {
   "cell_type": "code",
   "execution_count": 38,
   "id": "fbd60aef",
   "metadata": {},
   "outputs": [
    {
     "data": {
      "text/plain": [
       "2775903620.0"
      ]
     },
     "execution_count": 38,
     "metadata": {},
     "output_type": "execute_result"
    }
   ],
   "source": [
    "spotify_ok['Despacito'].sum()"
   ]
  },
  {
   "cell_type": "code",
   "execution_count": 39,
   "id": "aaa71f35",
   "metadata": {},
   "outputs": [
    {
     "data": {
      "text/plain": [
       "1048655845.0"
      ]
     },
     "execution_count": 39,
     "metadata": {},
     "output_type": "execute_result"
    }
   ],
   "source": [
    "spotify_ok['Something Just Like This'].sum()"
   ]
  },
  {
   "cell_type": "code",
   "execution_count": 41,
   "id": "380575e7",
   "metadata": {},
   "outputs": [
    {
     "data": {
      "text/plain": [
       "1262422344.0"
      ]
     },
     "execution_count": 41,
     "metadata": {},
     "output_type": "execute_result"
    }
   ],
   "source": [
    "spotify_ok['HUMBLE.'].sum()"
   ]
  },
  {
   "cell_type": "code",
   "execution_count": 42,
   "id": "19b46ab7",
   "metadata": {},
   "outputs": [
    {
     "data": {
      "text/plain": [
       "1289150890.0"
      ]
     },
     "execution_count": 42,
     "metadata": {},
     "output_type": "execute_result"
    }
   ],
   "source": [
    "spotify_ok['Unforgettable'].sum()"
   ]
  },
  {
   "cell_type": "code",
   "execution_count": 12,
   "id": "494e6d26",
   "metadata": {},
   "outputs": [],
   "source": [
    "# Visualization\n",
    "import seaborn as sns\n",
    "import matplotlib.pyplot as plt"
   ]
  },
  {
   "cell_type": "code",
   "execution_count": 15,
   "id": "bf2657a1",
   "metadata": {},
   "outputs": [
    {
     "name": "stdout",
     "output_type": "stream",
     "text": [
      "         Date  Shape of You  Despacito  Something Just Like This    HUMBLE.  \\\n",
      "91   4/7/2017      13042637  6533680.0                 9736931.0  8055220.0   \n",
      "92   4/8/2017      12815920  6660608.0                 9334494.0  7280150.0   \n",
      "93   4/9/2017      11291392  5683746.0                 8077875.0  6396104.0   \n",
      "94  4/10/2017      11819128  5762588.0                 8678774.0  7162611.0   \n",
      "95  4/11/2017      11736951  5877897.0                 8591469.0  7468021.0   \n",
      "\n",
      "    Unforgettable  year_month  \n",
      "91       317011.0           4  \n",
      "92       308838.0           4  \n",
      "93       756145.0           4  \n",
      "94       954504.0           4  \n",
      "95       953037.0           4  \n"
     ]
    }
   ],
   "source": [
    "#tạo column year_month \n",
    "spotify_ok['year_month'] = pd.DatetimeIndex(spotify_ok['Date']).month\n",
    "print(spotify_ok.head())"
   ]
  },
  {
   "cell_type": "code",
   "execution_count": 48,
   "id": "f8882774",
   "metadata": {},
   "outputs": [
    {
     "data": {
      "image/png": "[encoded data removed]",
      "text/plain": [
       "<Figure size 360x360 with 1 Axes>"
      ]
     },
     "metadata": {
      "needs_background": "light"
     },
     "output_type": "display_data"
    }
   ],
   "source": [
    "#Line plot\n",
    "g = sns.relplot(x='year_month', y='Shape of You', data=spotify_ok, kind='line', ci=None)\n",
    "g.fig.suptitle('Shape of you streaming by month', y=1.03)\n",
    "g.set(xlabel='time', ylabel='streaming')\n",
    "plt.show()"
   ]
  },
  {
   "cell_type": "code",
   "execution_count": 47,
   "id": "a96533b8",
   "metadata": {},
   "outputs": [
    {
     "data": {
      "image/png": "[encoded data removed]",
      "text/plain": [
       "<Figure size 360x360 with 1 Axes>"
      ]
     },
     "metadata": {
      "needs_background": "light"
     },
     "output_type": "display_data"
    }
   ],
   "source": [
    "#Line plot\n",
    "g = sns.relplot(x='year_month', y='Despacito', data=spotify_ok, kind='line', ci=None)\n",
    "g.fig.suptitle('Despacito streaming by month', y=1.03)\n",
    "g.set(xlabel='time', ylabel='streaming')\n",
    "plt.show()"
   ]
  },
  {
   "cell_type": "code",
   "execution_count": 46,
   "id": "75f593c0",
   "metadata": {},
   "outputs": [
    {
     "data": {
      "image/png": "[encoded data removed]",
      "text/plain": [
       "<Figure size 360x360 with 1 Axes>"
      ]
     },
     "metadata": {
      "needs_background": "light"
     },
     "output_type": "display_data"
    }
   ],
   "source": [
    "#Line plot\n",
    "g = sns.relplot(x='year_month', y='Something Just Like This', data=spotify_ok, kind='line', ci=None)\n",
    "g.fig.suptitle('Something Just Like This streaming by month', y=1.03)\n",
    "g.set(xlabel='time', ylabel='streaming')\n",
    "plt.show()"
   ]
  },
  {
   "cell_type": "code",
   "execution_count": 45,
   "id": "f3b5e48c",
   "metadata": {},
   "outputs": [
    {
     "data": {
      "image/png": "[encoded data removed]",
      "text/plain": [
       "<Figure size 360x360 with 1 Axes>"
      ]
     },
     "metadata": {
      "needs_background": "light"
     },
     "output_type": "display_data"
    }
   ],
   "source": [
    "#Line plot\n",
    "g = sns.relplot(x='year_month', y='HUMBLE.', data=spotify_ok, kind='line', ci=None)\n",
    "g.fig.suptitle('HUMBLE. streaming by month', y=1.03)\n",
    "g.set(xlabel='time', ylabel='streaming')\n",
    "plt.show()"
   ]
  },
  {
   "cell_type": "code",
   "execution_count": 44,
   "id": "f6419b2b",
   "metadata": {},
   "outputs": [
    {
     "data": {
      "image/png": "[encoded data removed]",
      "text/plain": [
       "<Figure size 360x360 with 1 Axes>"
      ]
     },
     "metadata": {
      "needs_background": "light"
     },
     "output_type": "display_data"
    }
   ],
   "source": [
    "#Line plot\n",
    "g = sns.relplot(x='year_month', y='Unforgettable', data=spotify_ok, kind='line', ci=None)\n",
    "g.fig.suptitle('Unforgettable streaming by month', y=1.03)\n",
    "g.set(xlabel='time', ylabel='streaming')\n",
    "plt.show()"
   ]
  },
  {
   "cell_type": "code",
   "execution_count": 57,
   "id": "7f95e4e4",
   "metadata": {},
   "outputs": [
    {
     "name": "stdout",
     "output_type": "stream",
     "text": [
      "                       song  Totalstream\n",
      "0              Shape of You   1676908639\n",
      "1                 Despacito   2775903620\n",
      "2  Something Just Like This   1048655845\n",
      "3                   HUMBLE.   1262422344\n",
      "4             Unforgettable   1289150890\n"
     ]
    }
   ],
   "source": [
    "Spotify1 = {'song':['Shape of You', 'Despacito', 'Something Just Like This', 'HUMBLE.', 'Unforgettable'],'Totalstream':[1676908639, 2775903620, 1048655845, 1262422344, 1289150890]}\n",
    "Spotify2 = pd.DataFrame(Spotify1)\n",
    "print(Spotify2)"
   ]
  },
  {
   "cell_type": "code",
   "execution_count": 71,
   "id": "1e20b405",
   "metadata": {},
   "outputs": [
    {
     "data": {
      "text/plain": [
       "Text(0.5, 1.03, 'Total stream by song')"
      ]
     },
     "execution_count": 71,
     "metadata": {},
     "output_type": "execute_result"
    },
    {
     "data": {
      "image/png": "[encoded data removed]",
      "text/plain": [
       "<Figure size 360x360 with 1 Axes>"
      ]
     },
     "metadata": {
      "needs_background": "light"
     },
     "output_type": "display_data"
    }
   ],
   "source": [
    "sns.set_context('paper')\n",
    "sns.set_palette(['#FF9F9F', '#E97777', '#FF9F9F', '#FF9F9F', '#FF9F9F'])\n",
    "g = sns.catplot(x='song', y='Totalstream', data=Spotify2, kind='bar')\n",
    "g.fig.suptitle('Total stream by song', y=1.03)"
   ]
  },
  {
   "cell_type": "code",
   "execution_count": null,
   "id": "36906e54",
   "metadata": {},
   "outputs": [],
   "source": [
    "#insight\n",
    "#Shape of you, Something just, Despacito, Humble khá tương đồng khi khoảng thời gian ghi nhận lượng streaming nhiều nhất tập trung vào tháng 4 và tháng 5, giảm dần về cuối năm\n",
    "#Trong khi đó, Unforgettable thì ngược lại khi thangs 4 ghi nhận lượt stream thấp nhất và đạt đỉnh vào tháng 7\n",
    "#Despacito đứng đầu cả về tổng lượng stream và lượng stream nhiều nhất trong ngày với lần lượt 2775903620 và 2.321818e+07 lượt"
   ]
  }
 ],
 "metadata": {
  "kernelspec": {
   "display_name": "Python 3 (ipykernel)",
   "language": "python",
   "name": "python3"
  },
  "language_info": {
   "codemirror_mode": {
    "name": "ipython",
    "version": 3
   },
   "file_extension": ".py",
   "mimetype": "text/x-python",
   "name": "python",
   "nbconvert_exporter": "python",
   "pygments_lexer": "ipython3",
   "version": "3.9.12"
  }
 },
 "nbformat": 4,
 "nbformat_minor": 5
}
