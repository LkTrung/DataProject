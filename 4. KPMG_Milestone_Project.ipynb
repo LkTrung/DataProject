{
 "cells": [
  {
   "cell_type": "code",
   "execution_count": 1,
   "metadata": {},
   "outputs": [],
   "source": [
    "#data wrangling\n",
    "import pandas as pd\n",
    "\n",
    "#datetime\n",
    "import datetime as dt\n"
   ]
  },
  {
   "cell_type": "code",
   "execution_count": 2,
   "metadata": {
    "scrolled": true
   },
   "outputs": [
    {
     "name": "stdout",
     "output_type": "stream",
     "text": [
      "   transaction_id  product_id  customer_id transaction_date  online_order  \\\n",
      "0               1           2         2950       2017-02-25           0.0   \n",
      "1               2           3         3120       2017-05-21           1.0   \n",
      "2               3          37          402       2017-10-16           0.0   \n",
      "3               4          88         3135       2017-08-31           0.0   \n",
      "4               5          78          787       2017-10-01           1.0   \n",
      "\n",
      "  order_status           brand product_line product_class product_size  \\\n",
      "0     Approved           Solex     Standard        medium       medium   \n",
      "1     Approved   Trek Bicycles     Standard        medium        large   \n",
      "2     Approved      OHM Cycles     Standard           low       medium   \n",
      "3     Approved  Norco Bicycles     Standard        medium       medium   \n",
      "4     Approved  Giant Bicycles     Standard        medium        large   \n",
      "\n",
      "   list_price  standard_cost  product_first_sold_date  \n",
      "0       71.49          53.62                  41245.0  \n",
      "1     2091.47         388.92                  41701.0  \n",
      "2     1793.43         248.82                  36361.0  \n",
      "3     1198.46         381.10                  36145.0  \n",
      "4     1765.30         709.48                  42226.0  \n"
     ]
    }
   ],
   "source": [
    "# load sheet Transactions trong file KPMG và in ra 5 dòng đầu tiên\n",
    "Transactions = pd.read_excel(\"KPMG.xlsx\", sheet_name=\"Transactions\")\n",
    "print(Transactions.head())"
   ]
  },
  {
   "cell_type": "code",
   "execution_count": 53,
   "metadata": {},
   "outputs": [
    {
     "name": "stdout",
     "output_type": "stream",
     "text": [
      "<class 'pandas.core.frame.DataFrame'>\n",
      "RangeIndex: 20000 entries, 0 to 19999\n",
      "Data columns (total 13 columns):\n",
      " #   Column                   Non-Null Count  Dtype         \n",
      "---  ------                   --------------  -----         \n",
      " 0   transaction_id           20000 non-null  int64         \n",
      " 1   product_id               20000 non-null  int64         \n",
      " 2   customer_id              20000 non-null  int64         \n",
      " 3   transaction_date         20000 non-null  datetime64[ns]\n",
      " 4   online_order             19640 non-null  float64       \n",
      " 5   order_status             20000 non-null  object        \n",
      " 6   brand                    19803 non-null  object        \n",
      " 7   product_line             19803 non-null  object        \n",
      " 8   product_class            19803 non-null  object        \n",
      " 9   product_size             19803 non-null  object        \n",
      " 10  list_price               20000 non-null  float64       \n",
      " 11  standard_cost            19803 non-null  float64       \n",
      " 12  product_first_sold_date  19803 non-null  float64       \n",
      "dtypes: datetime64[ns](1), float64(4), int64(3), object(5)\n",
      "memory usage: 2.0+ MB\n",
      "None\n"
     ]
    }
   ],
   "source": [
    "# in ra info bảng\n",
    "print(Transactions.info())"
   ]
  },
  {
   "cell_type": "code",
   "execution_count": 54,
   "metadata": {
    "scrolled": true
   },
   "outputs": [
    {
     "name": "stdout",
     "output_type": "stream",
     "text": [
      "       transaction_id   product_id   customer_id  online_order    list_price  \\\n",
      "count    20000.000000  20000.00000  20000.000000  19640.000000  20000.000000   \n",
      "mean     10000.500000     45.36465   1738.246050      0.500458   1107.829449   \n",
      "std       5773.647028     30.75359   1011.951046      0.500013    582.825242   \n",
      "min          1.000000      0.00000      1.000000      0.000000     12.010000   \n",
      "25%       5000.750000     18.00000    857.750000      0.000000    575.270000   \n",
      "50%      10000.500000     44.00000   1736.000000      1.000000   1163.890000   \n",
      "75%      15000.250000     72.00000   2613.000000      1.000000   1635.300000   \n",
      "max      20000.000000    100.00000   5034.000000      1.000000   2091.470000   \n",
      "\n",
      "       standard_cost  product_first_sold_date  \n",
      "count   19803.000000             19803.000000  \n",
      "mean      556.046951             38199.776549  \n",
      "std       405.955660              2875.201110  \n",
      "min         7.210000             33259.000000  \n",
      "25%       215.140000             35667.000000  \n",
      "50%       507.580000             38216.000000  \n",
      "75%       795.100000             40672.000000  \n",
      "max      1759.850000             42710.000000  \n"
     ]
    }
   ],
   "source": [
    "# describe default\n",
    "print(Transactions.describe())"
   ]
  },
  {
   "cell_type": "code",
   "execution_count": 55,
   "metadata": {
    "scrolled": true
   },
   "outputs": [
    {
     "name": "stdout",
     "output_type": "stream",
     "text": [
      "       order_status  brand product_line product_class product_size\n",
      "count         20000  19803        19803         19803        19803\n",
      "unique            2      6            4             3            3\n",
      "top        Approved  Solex     Standard        medium       medium\n",
      "freq          19821   4253        14176         13826        12990\n"
     ]
    }
   ],
   "source": [
    "# describe các biến object\n",
    "print(Transactions.describe(include=[object]))"
   ]
  },
  {
   "cell_type": "code",
   "execution_count": 7,
   "metadata": {
    "scrolled": false
   },
   "outputs": [
    {
     "name": "stdout",
     "output_type": "stream",
     "text": [
      "        transaction_id   product_id   customer_id            transaction_date  \\\n",
      "count     20000.000000  20000.00000  20000.000000                       20000   \n",
      "unique             NaN          NaN           NaN                         NaN   \n",
      "top                NaN          NaN           NaN                         NaN   \n",
      "freq               NaN          NaN           NaN                         NaN   \n",
      "mean      10000.500000     45.36465   1738.246050  2017-07-01 14:08:05.280000   \n",
      "min           1.000000      0.00000      1.000000         2017-01-01 00:00:00   \n",
      "25%        5000.750000     18.00000    857.750000         2017-04-01 00:00:00   \n",
      "50%       10000.500000     44.00000   1736.000000         2017-07-03 00:00:00   \n",
      "75%       15000.250000     72.00000   2613.000000         2017-10-02 00:00:00   \n",
      "max       20000.000000    100.00000   5034.000000         2017-12-30 00:00:00   \n",
      "std        5773.647028     30.75359   1011.951046                         NaN   \n",
      "\n",
      "        online_order order_status  brand product_line product_class  \\\n",
      "count   19640.000000        20000  19803        19803         19803   \n",
      "unique           NaN            2      6            4             3   \n",
      "top              NaN     Approved  Solex     Standard        medium   \n",
      "freq             NaN        19821   4253        14176         13826   \n",
      "mean        0.500458          NaN    NaN          NaN           NaN   \n",
      "min         0.000000          NaN    NaN          NaN           NaN   \n",
      "25%         0.000000          NaN    NaN          NaN           NaN   \n",
      "50%         1.000000          NaN    NaN          NaN           NaN   \n",
      "75%         1.000000          NaN    NaN          NaN           NaN   \n",
      "max         1.000000          NaN    NaN          NaN           NaN   \n",
      "std         0.500013          NaN    NaN          NaN           NaN   \n",
      "\n",
      "       product_size    list_price  standard_cost  product_first_sold_date  \n",
      "count         19803  20000.000000   19803.000000             19803.000000  \n",
      "unique            3           NaN            NaN                      NaN  \n",
      "top          medium           NaN            NaN                      NaN  \n",
      "freq          12990           NaN            NaN                      NaN  \n",
      "mean            NaN   1107.829449     556.046951             38199.776549  \n",
      "min             NaN     12.010000       7.210000             33259.000000  \n",
      "25%             NaN    575.270000     215.140000             35667.000000  \n",
      "50%             NaN   1163.890000     507.580000             38216.000000  \n",
      "75%             NaN   1635.300000     795.100000             40672.000000  \n",
      "max             NaN   2091.470000    1759.850000             42710.000000  \n",
      "std             NaN    582.825242     405.955660              2875.201110  \n"
     ]
    }
   ],
   "source": [
    "# describe all\n",
    "print(Transactions.describe(include='all', datetime_is_numeric=True))  "
   ]
  },
  {
   "cell_type": "code",
   "execution_count": 56,
   "metadata": {
    "scrolled": true
   },
   "outputs": [
    {
     "data": {
      "text/plain": [
       "transaction_id               0\n",
       "product_id                   0\n",
       "customer_id                  0\n",
       "transaction_date             0\n",
       "online_order               360\n",
       "order_status                 0\n",
       "brand                      197\n",
       "product_line               197\n",
       "product_class              197\n",
       "product_size               197\n",
       "list_price                   0\n",
       "standard_cost              197\n",
       "product_first_sold_date    197\n",
       "dtype: int64"
      ]
     },
     "execution_count": 56,
     "metadata": {},
     "output_type": "execute_result"
    }
   ],
   "source": [
    "# count số dòng bị null ở mỗi cột\n",
    "Transactions.isna().sum()"
   ]
  },
  {
   "cell_type": "markdown",
   "metadata": {},
   "source": [
    "# 1. Data Correction"
   ]
  },
  {
   "cell_type": "markdown",
   "metadata": {},
   "source": [
    "## 1.1 Drop NA"
   ]
  },
  {
   "cell_type": "code",
   "execution_count": 3,
   "metadata": {
    "scrolled": true
   },
   "outputs": [
    {
     "name": "stdout",
     "output_type": "stream",
     "text": [
      "<class 'pandas.core.frame.DataFrame'>\n",
      "Int64Index: 19445 entries, 0 to 19999\n",
      "Data columns (total 13 columns):\n",
      " #   Column                   Non-Null Count  Dtype         \n",
      "---  ------                   --------------  -----         \n",
      " 0   transaction_id           19445 non-null  int64         \n",
      " 1   product_id               19445 non-null  int64         \n",
      " 2   customer_id              19445 non-null  int64         \n",
      " 3   transaction_date         19445 non-null  datetime64[ns]\n",
      " 4   online_order             19445 non-null  float64       \n",
      " 5   order_status             19445 non-null  object        \n",
      " 6   brand                    19445 non-null  object        \n",
      " 7   product_line             19445 non-null  object        \n",
      " 8   product_class            19445 non-null  object        \n",
      " 9   product_size             19445 non-null  object        \n",
      " 10  list_price               19445 non-null  float64       \n",
      " 11  standard_cost            19445 non-null  float64       \n",
      " 12  product_first_sold_date  19445 non-null  float64       \n",
      "dtypes: datetime64[ns](1), float64(4), int64(3), object(5)\n",
      "memory usage: 2.1+ MB\n",
      "None\n"
     ]
    }
   ],
   "source": [
    "# tạo bảng df_dropna_all bằng cách loại bỏ tất cả giá trị null trong bảng và in ra info\n",
    "df_dropna_all = Transactions.dropna()\n",
    "print(df_dropna_all.info())"
   ]
  },
  {
   "cell_type": "code",
   "execution_count": 15,
   "metadata": {
    "scrolled": true
   },
   "outputs": [
    {
     "name": "stdout",
     "output_type": "stream",
     "text": [
      "<class 'pandas.core.frame.DataFrame'>\n",
      "Int64Index: 19640 entries, 0 to 19999\n",
      "Data columns (total 13 columns):\n",
      " #   Column                   Non-Null Count  Dtype         \n",
      "---  ------                   --------------  -----         \n",
      " 0   transaction_id           19640 non-null  int64         \n",
      " 1   product_id               19640 non-null  int64         \n",
      " 2   customer_id              19640 non-null  int64         \n",
      " 3   transaction_date         19640 non-null  datetime64[ns]\n",
      " 4   online_order             19640 non-null  float64       \n",
      " 5   order_status             19640 non-null  object        \n",
      " 6   brand                    19445 non-null  object        \n",
      " 7   product_line             19445 non-null  object        \n",
      " 8   product_class            19445 non-null  object        \n",
      " 9   product_size             19445 non-null  object        \n",
      " 10  list_price               19640 non-null  float64       \n",
      " 11  standard_cost            19445 non-null  float64       \n",
      " 12  product_first_sold_date  19445 non-null  float64       \n",
      "dtypes: datetime64[ns](1), float64(4), int64(3), object(5)\n",
      "memory usage: 2.1+ MB\n",
      "None\n"
     ]
    }
   ],
   "source": [
    "# tạo bảng df_dropna_online_order bằng cách loại bỏ giá trị null trong cột online_order và in ra info\n",
    "df_dropna_online_order = Transactions.dropna(subset=['online_order'])\n",
    "print(df_dropna_online_order.info())"
   ]
  },
  {
   "cell_type": "markdown",
   "metadata": {},
   "source": [
    "## 1.2 Fill NA"
   ]
  },
  {
   "cell_type": "code",
   "execution_count": 16,
   "metadata": {},
   "outputs": [
    {
     "name": "stdout",
     "output_type": "stream",
     "text": [
      "<class 'pandas.core.frame.DataFrame'>\n",
      "RangeIndex: 20000 entries, 0 to 19999\n",
      "Data columns (total 13 columns):\n",
      " #   Column                   Non-Null Count  Dtype         \n",
      "---  ------                   --------------  -----         \n",
      " 0   transaction_id           20000 non-null  int64         \n",
      " 1   product_id               20000 non-null  int64         \n",
      " 2   customer_id              20000 non-null  int64         \n",
      " 3   transaction_date         20000 non-null  datetime64[ns]\n",
      " 4   online_order             20000 non-null  float64       \n",
      " 5   order_status             20000 non-null  object        \n",
      " 6   brand                    20000 non-null  object        \n",
      " 7   product_line             20000 non-null  object        \n",
      " 8   product_class            20000 non-null  object        \n",
      " 9   product_size             20000 non-null  object        \n",
      " 10  list_price               20000 non-null  float64       \n",
      " 11  standard_cost            20000 non-null  float64       \n",
      " 12  product_first_sold_date  20000 non-null  float64       \n",
      "dtypes: datetime64[ns](1), float64(4), int64(3), object(5)\n",
      "memory usage: 2.0+ MB\n",
      "None\n"
     ]
    }
   ],
   "source": [
    "# fill tất cả NA bằng 0, lưu vào bảng df_fillna_0 và in ra info\n",
    "df_fillna_0 = Transactions.fillna(0)\n",
    "print(df_fillna_0.info())"
   ]
  },
  {
   "cell_type": "code",
   "execution_count": 17,
   "metadata": {},
   "outputs": [
    {
     "name": "stdout",
     "output_type": "stream",
     "text": [
      "<class 'pandas.core.frame.DataFrame'>\n",
      "RangeIndex: 20000 entries, 0 to 19999\n",
      "Data columns (total 13 columns):\n",
      " #   Column                   Non-Null Count  Dtype         \n",
      "---  ------                   --------------  -----         \n",
      " 0   transaction_id           20000 non-null  int64         \n",
      " 1   product_id               20000 non-null  int64         \n",
      " 2   customer_id              20000 non-null  int64         \n",
      " 3   transaction_date         20000 non-null  datetime64[ns]\n",
      " 4   online_order             20000 non-null  float64       \n",
      " 5   order_status             20000 non-null  object        \n",
      " 6   brand                    20000 non-null  object        \n",
      " 7   product_line             20000 non-null  object        \n",
      " 8   product_class            20000 non-null  object        \n",
      " 9   product_size             20000 non-null  object        \n",
      " 10  list_price               20000 non-null  float64       \n",
      " 11  standard_cost            20000 non-null  float64       \n",
      " 12  product_first_sold_date  20000 non-null  float64       \n",
      "dtypes: datetime64[ns](1), float64(4), int64(3), object(5)\n",
      "memory usage: 2.0+ MB\n",
      "None\n"
     ]
    }
   ],
   "source": [
    "# fill NA bằng ffill, lưu vào bảng df_fillna_ffill và in ra info\n",
    "df_fillna_ffill = Transactions.fillna(method='ffill')\n",
    "print(df_fillna_ffill.info())"
   ]
  },
  {
   "cell_type": "code",
   "execution_count": 18,
   "metadata": {
    "scrolled": true
   },
   "outputs": [
    {
     "name": "stdout",
     "output_type": "stream",
     "text": [
      "<class 'pandas.core.frame.DataFrame'>\n",
      "RangeIndex: 20000 entries, 0 to 19999\n",
      "Data columns (total 13 columns):\n",
      " #   Column                   Non-Null Count  Dtype         \n",
      "---  ------                   --------------  -----         \n",
      " 0   transaction_id           20000 non-null  int64         \n",
      " 1   product_id               20000 non-null  int64         \n",
      " 2   customer_id              20000 non-null  int64         \n",
      " 3   transaction_date         20000 non-null  datetime64[ns]\n",
      " 4   online_order             20000 non-null  float64       \n",
      " 5   order_status             20000 non-null  object        \n",
      " 6   brand                    20000 non-null  object        \n",
      " 7   product_line             20000 non-null  object        \n",
      " 8   product_class            20000 non-null  object        \n",
      " 9   product_size             20000 non-null  object        \n",
      " 10  list_price               20000 non-null  float64       \n",
      " 11  standard_cost            20000 non-null  float64       \n",
      " 12  product_first_sold_date  20000 non-null  float64       \n",
      "dtypes: datetime64[ns](1), float64(4), int64(3), object(5)\n",
      "memory usage: 2.0+ MB\n",
      "None\n"
     ]
    }
   ],
   "source": [
    "# fill NA bằng bfill, lưu vào bảng df_fillna_bfill và in ra info\n",
    "df_fillna_bfill = Transactions.fillna(method='bfill')\n",
    "print(df_fillna_bfill.info())"
   ]
  },
  {
   "cell_type": "markdown",
   "metadata": {},
   "source": [
    "## 1.3. Assess Categorical Data"
   ]
  },
  {
   "cell_type": "code",
   "execution_count": 4,
   "metadata": {
    "scrolled": false
   },
   "outputs": [
    {
     "name": "stdout",
     "output_type": "stream",
     "text": [
      "   customer_id      first_name  last_name  gender  \\\n",
      "0            1         Laraine  Medendorp       F   \n",
      "1            2             Eli    Bockman    Male   \n",
      "2            3           Arlin     Dearle    Male   \n",
      "3            4          Talbot        NaN    Male   \n",
      "4            5  Sheila-kathryn     Calton  Female   \n",
      "\n",
      "   past_3_years_bike_related_purchases        DOB               job_title  \\\n",
      "0                                   93 1953-10-12     Executive Secretary   \n",
      "1                                   81 1980-12-16  Administrative Officer   \n",
      "2                                   61 1954-01-20      Recruiting Manager   \n",
      "3                                   33 1961-10-03                     NaN   \n",
      "4                                   56 1977-05-13           Senior Editor   \n",
      "\n",
      "  job_industry_category     wealth_segment deceased_indicator  \\\n",
      "0                Health      Mass Customer                  N   \n",
      "1    Financial Services      Mass Customer                  N   \n",
      "2              Property      Mass Customer                  N   \n",
      "3                    IT      Mass Customer                  N   \n",
      "4                   NaN  Affluent Customer                  N   \n",
      "\n",
      "                                             default owns_car  tenure  \n",
      "0                                                 \"'      Yes    11.0  \n",
      "1                       <script>alert('hi')</script>      Yes    16.0  \n",
      "2                                2018-02-01 00:00:00      Yes    15.0  \n",
      "3  () { _; } >_[$($())] { touch /tmp/blns.shellsh...       No     7.0  \n",
      "4                                                NIL      Yes     8.0  \n"
     ]
    },
    {
     "name": "stderr",
     "output_type": "stream",
     "text": [
      "C:\\Users\\adm\\AppData\\Local\\Temp\\ipykernel_19356\\2451497749.py:2: FutureWarning: Inferring datetime64[ns] from data containing strings is deprecated and will be removed in a future version. To retain the old behavior explicitly pass Series(data, dtype=datetime64[ns])\n",
      "  Demographic = pd.read_excel('KPMG.xlsx', sheet_name='CustomerDemographic')\n"
     ]
    }
   ],
   "source": [
    "# load sheet Demographic và hiển thị top head\n",
    "Demographic = pd.read_excel('KPMG.xlsx', sheet_name='CustomerDemographic')\n",
    "print(Demographic.head())\n"
   ]
  },
  {
   "cell_type": "code",
   "execution_count": 43,
   "metadata": {},
   "outputs": [
    {
     "name": "stdout",
     "output_type": "stream",
     "text": [
      "<class 'pandas.core.frame.DataFrame'>\n",
      "RangeIndex: 4000 entries, 0 to 3999\n",
      "Data columns (total 13 columns):\n",
      " #   Column                               Non-Null Count  Dtype         \n",
      "---  ------                               --------------  -----         \n",
      " 0   customer_id                          4000 non-null   int64         \n",
      " 1   first_name                           4000 non-null   object        \n",
      " 2   last_name                            3875 non-null   object        \n",
      " 3   gender                               4000 non-null   object        \n",
      " 4   past_3_years_bike_related_purchases  4000 non-null   int64         \n",
      " 5   DOB                                  3913 non-null   datetime64[ns]\n",
      " 6   job_title                            3494 non-null   object        \n",
      " 7   job_industry_category                3344 non-null   object        \n",
      " 8   wealth_segment                       4000 non-null   object        \n",
      " 9   deceased_indicator                   4000 non-null   object        \n",
      " 10  default                              3698 non-null   object        \n",
      " 11  owns_car                             4000 non-null   object        \n",
      " 12  tenure                               3913 non-null   float64       \n",
      "dtypes: datetime64[ns](1), float64(1), int64(2), object(9)\n",
      "memory usage: 406.4+ KB\n",
      "None\n"
     ]
    }
   ],
   "source": [
    "# in ra info bảng\n",
    "print(Demographic.info())\n"
   ]
  },
  {
   "cell_type": "code",
   "execution_count": 21,
   "metadata": {
    "scrolled": false
   },
   "outputs": [
    {
     "name": "stdout",
     "output_type": "stream",
     "text": [
      "       first_name last_name  gender                             job_title  \\\n",
      "count        4000      3875    4000                                  3494   \n",
      "unique       3139      3725       6                                   195   \n",
      "top           Max  Pristnor  Female  Business Systems Development Analyst   \n",
      "freq            5         3    2037                                    45   \n",
      "\n",
      "       job_industry_category wealth_segment deceased_indicator  default  \\\n",
      "count                   3344           4000               4000     3698   \n",
      "unique                     9              3                  2       90   \n",
      "top            Manufacturing  Mass Customer                  N      100   \n",
      "freq                     799           2000               3998      113   \n",
      "\n",
      "       owns_car  \n",
      "count      4000  \n",
      "unique        2  \n",
      "top         Yes  \n",
      "freq       2024  \n"
     ]
    }
   ],
   "source": [
    "# describe các giá trị object\n",
    "print(Demographic.describe(include=[object]))"
   ]
  },
  {
   "cell_type": "code",
   "execution_count": 5,
   "metadata": {},
   "outputs": [
    {
     "name": "stdout",
     "output_type": "stream",
     "text": [
      "   customer_id first_name  last_name  gender  \\\n",
      "0            1    Laraine  Medendorp       F   \n",
      "1            2        Eli    Bockman    Male   \n",
      "2            3      Arlin     Dearle    Male   \n",
      "8            9       Mala       Lind  Female   \n",
      "9           10   Fiorenze    Birdall  Female   \n",
      "\n",
      "   past_3_years_bike_related_purchases        DOB  \\\n",
      "0                                   93 1953-10-12   \n",
      "1                                   81 1980-12-16   \n",
      "2                                   61 1954-01-20   \n",
      "8                                   97 1973-03-10   \n",
      "9                                   49 1988-10-11   \n",
      "\n",
      "                              job_title job_industry_category  \\\n",
      "0                   Executive Secretary                Health   \n",
      "1                Administrative Officer    Financial Services   \n",
      "2                    Recruiting Manager              Property   \n",
      "8  Business Systems Development Analyst           Argiculture   \n",
      "9               Senior Quality Engineer    Financial Services   \n",
      "\n",
      "      wealth_segment deceased_indicator                       default  \\\n",
      "0      Mass Customer                  N                            \"'   \n",
      "1      Mass Customer                  N  <script>alert('hi')</script>   \n",
      "2      Mass Customer                  N           2018-02-01 00:00:00   \n",
      "8  Affluent Customer                  N                           0/0   \n",
      "9      Mass Customer                  N                          ð©ð½   \n",
      "\n",
      "  owns_car  tenure  \n",
      "0      Yes    11.0  \n",
      "1      Yes    16.0  \n",
      "2      Yes    15.0  \n",
      "8      Yes     8.0  \n",
      "9      Yes    20.0  \n"
     ]
    }
   ],
   "source": [
    "# Remove all NA rows, then use output for the following steps\n",
    "Demographic = Demographic.dropna(axis='index')\n",
    "print(Demographic.head())"
   ]
  },
  {
   "cell_type": "code",
   "execution_count": 8,
   "metadata": {},
   "outputs": [
    {
     "name": "stdout",
     "output_type": "stream",
     "text": [
      "['F' 'Male' 'Female' 'Femal']\n"
     ]
    }
   ],
   "source": [
    "# In ra các giá trị unique của cột gender\n",
    "print(Demographic['gender'].unique())"
   ]
  },
  {
   "cell_type": "code",
   "execution_count": 6,
   "metadata": {},
   "outputs": [
    {
     "name": "stdout",
     "output_type": "stream",
     "text": [
      "['Female' 'Male']\n"
     ]
    },
    {
     "name": "stderr",
     "output_type": "stream",
     "text": [
      "C:\\Users\\adm\\AppData\\Local\\Temp\\ipykernel_19356\\1415266992.py:2: SettingWithCopyWarning: \n",
      "A value is trying to be set on a copy of a slice from a DataFrame.\n",
      "Try using .loc[row_indexer,col_indexer] = value instead\n",
      "\n",
      "See the caveats in the documentation: https://pandas.pydata.org/pandas-docs/stable/user_guide/indexing.html#returning-a-view-versus-a-copy\n",
      "  Demographic['gender'] = Demographic['gender'].replace(['F', 'Femal', 'M', 'U'], ['Female', 'Female', 'Male', 'Unisex'])\n"
     ]
    }
   ],
   "source": [
    "# Quy chuẩn cột gender về 2 nhóm Male, Female, Unisex và in ra giá trị unique mới\n",
    "Demographic['gender'] = Demographic['gender'].replace(['F', 'Femal', 'M', 'U'], ['Female', 'Female', 'Male', 'Unisex'])\n",
    "print(Demographic['gender'].unique())\n"
   ]
  },
  {
   "cell_type": "code",
   "execution_count": 7,
   "metadata": {},
   "outputs": [
    {
     "name": "stdout",
     "output_type": "stream",
     "text": [
      "20.0\n",
      "91.0\n"
     ]
    }
   ],
   "source": [
    "# Tính tuổi của mỗi khách hàng và lưu vào cột \"age\" và in ra min age, max age\n",
    "from datetime import date\n",
    "\n",
    "today = date.today()\n",
    "today = pd.to_datetime(today, errors='coerce')\n",
    "Demographic['DOB'] = pd.to_datetime(Demographic['DOB'], errors='coerce')\n",
    "Demographic['age'] = (today-Demographic['DOB']).astype('<m8[Y]')\n",
    "print(Demographic['age'].min())\n",
    "print(Demographic['age'].max())\n"
   ]
  },
  {
   "cell_type": "code",
   "execution_count": 8,
   "metadata": {},
   "outputs": [
    {
     "name": "stdout",
     "output_type": "stream",
     "text": [
      "   customer_id first_name  last_name  gender  \\\n",
      "0            1    Laraine  Medendorp  Female   \n",
      "1            2        Eli    Bockman    Male   \n",
      "2            3      Arlin     Dearle    Male   \n",
      "8            9       Mala       Lind  Female   \n",
      "9           10   Fiorenze    Birdall  Female   \n",
      "\n",
      "   past_3_years_bike_related_purchases        DOB  \\\n",
      "0                                   93 1953-10-12   \n",
      "1                                   81 1980-12-16   \n",
      "2                                   61 1954-01-20   \n",
      "8                                   97 1973-03-10   \n",
      "9                                   49 1988-10-11   \n",
      "\n",
      "                              job_title job_industry_category  \\\n",
      "0                   Executive Secretary                Health   \n",
      "1                Administrative Officer    Financial Services   \n",
      "2                    Recruiting Manager              Property   \n",
      "8  Business Systems Development Analyst           Argiculture   \n",
      "9               Senior Quality Engineer    Financial Services   \n",
      "\n",
      "      wealth_segment deceased_indicator                       default  \\\n",
      "0      Mass Customer                  N                            \"'   \n",
      "1      Mass Customer                  N  <script>alert('hi')</script>   \n",
      "2      Mass Customer                  N           2018-02-01 00:00:00   \n",
      "8  Affluent Customer                  N                           0/0   \n",
      "9      Mass Customer                  N                          ð©ð½   \n",
      "\n",
      "  owns_car  tenure   age age_group  \n",
      "0      Yes    11.0  69.0     Older  \n",
      "1      Yes    16.0  42.0    Middle  \n",
      "2      Yes    15.0  68.0     Older  \n",
      "8      Yes     8.0  49.0    Middle  \n",
      "9      Yes    20.0  34.0     Young  \n"
     ]
    }
   ],
   "source": [
    "# phân nhóm khách hàng dưới 35 tuổi là nhóm \"Young\", Từ 35 - 55 là \"Middle\", trên 55 là \"Older\"\n",
    "# lưu vào cột \"age_group\" bằng cách sử dụng hàm cut\n",
    "cut_off = [0, 35, 55, 100]\n",
    "labels = ['Young', 'Middle', 'Older']\n",
    "Demographic['age_group'] = pd.cut(Demographic['age'], bins=cut_off, labels=labels)\n",
    "print(Demographic.head())"
   ]
  },
  {
   "cell_type": "markdown",
   "metadata": {},
   "source": [
    "# 2. Data Completeness"
   ]
  },
  {
   "cell_type": "code",
   "execution_count": 9,
   "metadata": {
    "scrolled": true
   },
   "outputs": [
    {
     "name": "stdout",
     "output_type": "stream",
     "text": [
      "Empty DataFrame\n",
      "Columns: [transaction_id, product_id, customer_id, transaction_date, online_order, order_status, brand, product_line, product_class, product_size, list_price, standard_cost, product_first_sold_date, first_name, last_name, gender, past_3_years_bike_related_purchases, DOB, job_title, job_industry_category, wealth_segment, deceased_indicator, default, owns_car, tenure, age, age_group]\n",
      "Index: []\n",
      "\n",
      "[0 rows x 27 columns]\n"
     ]
    }
   ],
   "source": [
    "#join bảng transactions vs demographic (đều đã dropna) và in ra những giao dịch thiếu thông tin demographic (last name hoặc first name)\n",
    "import numpy as np\n",
    "table_merge = df_dropna_all.merge(Demographic, on='customer_id')\n",
    "print(table_merge[np.logical_or(table_merge['first_name'].isnull(), table_merge['last_name'].isnull())])"
   ]
  },
  {
   "cell_type": "markdown",
   "metadata": {},
   "source": [
    "# 3. Data Aggregation (after dropping null values)"
   ]
  },
  {
   "cell_type": "code",
   "execution_count": 74,
   "metadata": {
    "scrolled": true
   },
   "outputs": [
    {
     "data": {
      "text/plain": [
       "2329"
      ]
     },
     "execution_count": 74,
     "metadata": {},
     "output_type": "execute_result"
    }
   ],
   "source": [
    "# tính tổng khách hàng có phát sinh giao dịch bằng hàm nunique\n",
    "table_merge['customer_id'].nunique()"
   ]
  },
  {
   "cell_type": "code",
   "execution_count": 10,
   "metadata": {},
   "outputs": [
    {
     "data": {
      "text/plain": [
       "year_month\n",
       "201701    878\n",
       "201702    859\n",
       "201703    848\n",
       "201704    876\n",
       "201705    871\n",
       "201706    826\n",
       "201707    868\n",
       "201708    888\n",
       "201709    826\n",
       "201710    886\n",
       "201711    869\n",
       "201712    877\n",
       "Name: customer_id, dtype: int64"
      ]
     },
     "execution_count": 10,
     "metadata": {},
     "output_type": "execute_result"
    }
   ],
   "source": [
    "# Tính số khách hàng mỗi tháng\n",
    "# hint 1: tạo column year_month bằng hàm dt.strftime\n",
    "# hint 2: group by year_month và nunique\n",
    "table_merge['year_month'] = table_merge['transaction_date'].dt.strftime('%Y%m')\n",
    "table_merge.groupby('year_month')['customer_id'].nunique()"
   ]
  },
  {
   "cell_type": "code",
   "execution_count": 11,
   "metadata": {
    "scrolled": true
   },
   "outputs": [
    {
     "data": {
      "text/html": [
       "<div>\n",
       "<style scoped>\n",
       "    .dataframe tbody tr th:only-of-type {\n",
       "        vertical-align: middle;\n",
       "    }\n",
       "\n",
       "    .dataframe tbody tr th {\n",
       "        vertical-align: top;\n",
       "    }\n",
       "\n",
       "    .dataframe thead th {\n",
       "        text-align: right;\n",
       "    }\n",
       "</style>\n",
       "<table border=\"1\" class=\"dataframe\">\n",
       "  <thead>\n",
       "    <tr style=\"text-align: right;\">\n",
       "      <th></th>\n",
       "      <th>gross_margin</th>\n",
       "    </tr>\n",
       "    <tr>\n",
       "      <th>year_month</th>\n",
       "      <th></th>\n",
       "    </tr>\n",
       "  </thead>\n",
       "  <tbody>\n",
       "    <tr>\n",
       "      <th>201701</th>\n",
       "      <td>598361.59</td>\n",
       "    </tr>\n",
       "    <tr>\n",
       "      <th>201702</th>\n",
       "      <td>585956.49</td>\n",
       "    </tr>\n",
       "    <tr>\n",
       "      <th>201703</th>\n",
       "      <td>583459.93</td>\n",
       "    </tr>\n",
       "    <tr>\n",
       "      <th>201704</th>\n",
       "      <td>614345.11</td>\n",
       "    </tr>\n",
       "    <tr>\n",
       "      <th>201705</th>\n",
       "      <td>612053.28</td>\n",
       "    </tr>\n",
       "    <tr>\n",
       "      <th>201706</th>\n",
       "      <td>557927.11</td>\n",
       "    </tr>\n",
       "    <tr>\n",
       "      <th>201707</th>\n",
       "      <td>602030.44</td>\n",
       "    </tr>\n",
       "    <tr>\n",
       "      <th>201708</th>\n",
       "      <td>629727.79</td>\n",
       "    </tr>\n",
       "    <tr>\n",
       "      <th>201709</th>\n",
       "      <td>557052.49</td>\n",
       "    </tr>\n",
       "    <tr>\n",
       "      <th>201710</th>\n",
       "      <td>633585.93</td>\n",
       "    </tr>\n",
       "    <tr>\n",
       "      <th>201711</th>\n",
       "      <td>611242.54</td>\n",
       "    </tr>\n",
       "    <tr>\n",
       "      <th>201712</th>\n",
       "      <td>581086.57</td>\n",
       "    </tr>\n",
       "  </tbody>\n",
       "</table>\n",
       "</div>"
      ],
      "text/plain": [
       "            gross_margin\n",
       "year_month              \n",
       "201701         598361.59\n",
       "201702         585956.49\n",
       "201703         583459.93\n",
       "201704         614345.11\n",
       "201705         612053.28\n",
       "201706         557927.11\n",
       "201707         602030.44\n",
       "201708         629727.79\n",
       "201709         557052.49\n",
       "201710         633585.93\n",
       "201711         611242.54\n",
       "201712         581086.57"
      ]
     },
     "execution_count": 11,
     "metadata": {},
     "output_type": "execute_result"
    }
   ],
   "source": [
    "# Tính gross margin của mỗi tháng. gross_margin = list_price - standard_cost\n",
    "# hint 1: tạo column gross_margin\n",
    "# hint 2: group by year_month và sử dụng hàm agg\n",
    "table_merge['gross_margin'] = table_merge['list_price'] - table_merge['standard_cost']\n",
    "table_merge.groupby('year_month').agg({'gross_margin':'sum'})"
   ]
  },
  {
   "cell_type": "code",
   "execution_count": 15,
   "metadata": {
    "scrolled": false
   },
   "outputs": [
    {
     "data": {
      "text/html": [
       "<div>\n",
       "<style scoped>\n",
       "    .dataframe tbody tr th:only-of-type {\n",
       "        vertical-align: middle;\n",
       "    }\n",
       "\n",
       "    .dataframe tbody tr th {\n",
       "        vertical-align: top;\n",
       "    }\n",
       "\n",
       "    .dataframe thead th {\n",
       "        text-align: right;\n",
       "    }\n",
       "</style>\n",
       "<table border=\"1\" class=\"dataframe\">\n",
       "  <thead>\n",
       "    <tr style=\"text-align: right;\">\n",
       "      <th></th>\n",
       "      <th></th>\n",
       "      <th>order_status</th>\n",
       "    </tr>\n",
       "    <tr>\n",
       "      <th>online_order</th>\n",
       "      <th>order_status</th>\n",
       "      <th></th>\n",
       "    </tr>\n",
       "  </thead>\n",
       "  <tbody>\n",
       "    <tr>\n",
       "      <th rowspan=\"2\" valign=\"top\">0.0</th>\n",
       "      <th>Approved</th>\n",
       "      <td>6456</td>\n",
       "    </tr>\n",
       "    <tr>\n",
       "      <th>Cancelled</th>\n",
       "      <td>51</td>\n",
       "    </tr>\n",
       "    <tr>\n",
       "      <th rowspan=\"2\" valign=\"top\">1.0</th>\n",
       "      <th>Approved</th>\n",
       "      <td>6399</td>\n",
       "    </tr>\n",
       "    <tr>\n",
       "      <th>Cancelled</th>\n",
       "      <td>76</td>\n",
       "    </tr>\n",
       "  </tbody>\n",
       "</table>\n",
       "</div>"
      ],
      "text/plain": [
       "                           order_status\n",
       "online_order order_status              \n",
       "0.0          Approved              6456\n",
       "             Cancelled               51\n",
       "1.0          Approved              6399\n",
       "             Cancelled               76"
      ]
     },
     "execution_count": 15,
     "metadata": {},
     "output_type": "execute_result"
    }
   ],
   "source": [
    "# Tính số lượng order và doanh thu group by online_order và order_status \n",
    "# hint 1: group by online_order, order_status và sử dụng hàm agg\n",
    "table_merge.groupby(['online_order', 'order_status']).agg({'order_status':'count'},{'gross_margin':'sum'})\n"
   ]
  },
  {
   "cell_type": "markdown",
   "metadata": {},
   "source": [
    "# 4. Data Visualization"
   ]
  },
  {
   "cell_type": "code",
   "execution_count": 28,
   "metadata": {},
   "outputs": [],
   "source": [
    "# Sử dụng seaborn và vẽ ra 5 chart khác nhau (column, line, box,...) với đầy đủ tên chart, tên các trục và chú thích.\n",
    "import seaborn as sns\n",
    "import matplotlib.pyplot as plt"
   ]
  },
  {
   "cell_type": "code",
   "execution_count": 19,
   "metadata": {},
   "outputs": [
    {
     "data": {
      "image/png": "[encoded data removed]",
      "text/plain": [
       "<Figure size 360x360 with 1 Axes>"
      ]
     },
     "metadata": {
      "needs_background": "light"
     },
     "output_type": "display_data"
    }
   ],
   "source": [
    "#Line plot\n",
    "#Ban đầu em dùng cột year_month để tạo line plot nhưng trục x không sắp xếp theo thứ tự từ tháng 1-12 mà nó xếp loạn lên ạ, \n",
    "#em tạo cột month mới bằng hàm DatetimeIndex thì lại được ạ. Em cũng chưa hiểu sao dùng hàm Strftime nó lại bị xếp không đúng\n",
    "#thứ tự, anh giải thích cho em phần này với ạ\n",
    "table_merge['month'] = pd.DatetimeIndex(table_merge['transaction_date']).month\n",
    "sns.set_context('paper')\n",
    "sns.set_palette(['#FAAB78'])\n",
    "g = sns.relplot(x='month', y='gross_margin', data=table_merge, kind='line', ci=None)\n",
    "g.fig.suptitle('Gross margin by month', y=1.03)\n",
    "g.set(xlabel='month', ylabel='revenue')\n",
    "plt.show()\n"
   ]
  },
  {
   "cell_type": "code",
   "execution_count": 25,
   "metadata": {},
   "outputs": [
    {
     "data": {
      "text/plain": [
       "0.0    6507\n",
       "1.0    6475\n",
       "Name: online_order, dtype: int64"
      ]
     },
     "execution_count": 25,
     "metadata": {},
     "output_type": "execute_result"
    }
   ],
   "source": [
    "table_merge['online_order'].value_counts()"
   ]
  },
  {
   "cell_type": "code",
   "execution_count": 37,
   "metadata": {},
   "outputs": [
    {
     "data": {
      "image/png": "[encoded data removed]",
      "text/plain": [
       "<Figure size 432x288 with 1 Axes>"
      ]
     },
     "metadata": {},
     "output_type": "display_data"
    }
   ],
   "source": [
    "#Pie chart\n",
    "slice = [6507,6475]\n",
    "labels = ['Online order', 'Offline order']\n",
    "colors = ['#FAAB78', '#FFDCA9']\n",
    "plt.pie(slice, labels=labels, colors=colors, autopct='%1.1f%%')\n",
    "plt.title('Sales by Types of order')\n",
    "plt.show()"
   ]
  },
  {
   "cell_type": "code",
   "execution_count": 30,
   "metadata": {},
   "outputs": [
    {
     "data": {
      "text/plain": [
       "Middle    6818\n",
       "Young     3303\n",
       "Older     2861\n",
       "Name: age_group, dtype: int64"
      ]
     },
     "execution_count": 30,
     "metadata": {},
     "output_type": "execute_result"
    }
   ],
   "source": [
    "table_merge['age_group'].value_counts()"
   ]
  },
  {
   "cell_type": "code",
   "execution_count": 36,
   "metadata": {},
   "outputs": [
    {
     "data": {
      "image/png": "[encoded data removed]",
      "text/plain": [
       "<Figure size 432x288 with 1 Axes>"
      ]
     },
     "metadata": {},
     "output_type": "display_data"
    }
   ],
   "source": [
    "#Pie chart\n",
    "slice = [6818,3303, 2861]\n",
    "labels = ['Middle', 'Young', 'Older']\n",
    "colors = ['#FAAB78', '#FFDCA9', '#FCF9BE']\n",
    "plt.pie(slice, labels=labels, colors=colors, autopct='%1.1f%%')\n",
    "plt.title('Sales by Age group')\n",
    "plt.show()"
   ]
  },
  {
   "cell_type": "code",
   "execution_count": 18,
   "metadata": {
    "scrolled": true
   },
   "outputs": [
    {
     "data": {
      "text/plain": [
       "Text(0.5, 1.03, 'Sale by Brand')"
      ]
     },
     "execution_count": 18,
     "metadata": {},
     "output_type": "execute_result"
    },
    {
     "data": {
      "image/png": "[encoded data removed]",
      "text/plain": [
       "<Figure size 360x360 with 1 Axes>"
      ]
     },
     "metadata": {
      "needs_background": "light"
     },
     "output_type": "display_data"
    }
   ],
   "source": [
    "#Count plot\n",
    "sns.set_context('paper')\n",
    "sns.set_palette(['#FAAB78', '#FFDCA9', '#FFDCA9', '#FFDCA9', '#FFDCA9', '#FFDCA9'])\n",
    "g = sns.catplot(y='brand', data=table_merge, kind='count', order=['Solex', 'Giant Bicycles', 'WeareA2B', 'OHM Cycles', 'Trek Bicycles', 'Norco Bicycles'])\n",
    "g.fig.suptitle('Sale by Brand', y=1.03)\n"
   ]
  },
  {
   "cell_type": "code",
   "execution_count": 24,
   "metadata": {},
   "outputs": [
    {
     "data": {
      "image/png": "[encoded data removed]",
      "text/plain": [
       "<Figure size 360x360 with 1 Axes>"
      ]
     },
     "metadata": {
      "needs_background": "light"
     },
     "output_type": "display_data"
    }
   ],
   "source": [
    "#Box plot\n",
    "sns.set_palette(['#FAAB78', '#FAAB78', '#FAAB78'])\n",
    "g = sns.catplot(x='product_class', y='gross_margin', data=table_merge, order=['low', 'medium', 'high'], kind='box', sym=' ', whis=[0, 100])\n",
    "g.fig.suptitle('Gross margin by product class', y=1.03)\n",
    "plt.show()"
   ]
  },
  {
   "cell_type": "code",
   "execution_count": 35,
   "metadata": {},
   "outputs": [
    {
     "data": {
      "image/png": "[encoded data removed]",
      "text/plain": [
       "<Figure size 428.055x360 with 1 Axes>"
      ]
     },
     "metadata": {
      "needs_background": "light"
     },
     "output_type": "display_data"
    }
   ],
   "source": [
    "#Scatter chart\n",
    "sns.set_palette(['#FAAB78', '#36AE7C', '#187498'])\n",
    "g = sns.relplot(x='list_price', y='standard_cost', data=table_merge, kind='scatter', size='product_size', hue='product_size', alpha=0.4)\n",
    "g.fig.suptitle('Standard cost vs List price', y=1.03)\n",
    "plt.show()\n",
    "\n",
    "#Anh ơi ở mục chú thích về product size, mình làm thế nào để large được chú thích bằng hình tròn to nhất ạ, em thấy ở đây \n",
    "#seaborn đặt medium là to nhất"
   ]
  },
  {
   "cell_type": "code",
   "execution_count": null,
   "metadata": {},
   "outputs": [],
   "source": []
  }
 ],
 "metadata": {
  "kernelspec": {
   "display_name": "Python 3 (ipykernel)",
   "language": "python",
   "name": "python3"
  },
  "language_info": {
   "codemirror_mode": {
    "name": "ipython",
    "version": 3
   },
   "file_extension": ".py",
   "mimetype": "text/x-python",
   "name": "python",
   "nbconvert_exporter": "python",
   "pygments_lexer": "ipython3",
   "version": "3.9.12"
  }
 },
 "nbformat": 4,
 "nbformat_minor": 2
}
